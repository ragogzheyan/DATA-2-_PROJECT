{
 "cells": [
  {
   "cell_type": "markdown",
   "metadata": {},
   "source": [
    "### Exploratory Data Analysis"
   ]
  },
  {
   "cell_type": "code",
   "execution_count": 26,
   "metadata": {},
   "outputs": [],
   "source": [
    "import pandas as pd\n",
    "import numpy as np\n",
    "import seaborn as sns\n",
    "import matplotlib.pyplot as plt"
   ]
  },
  {
   "cell_type": "code",
   "execution_count": 27,
   "metadata": {},
   "outputs": [],
   "source": [
    "%matplotlib inline\n",
    "%config InlineBackend.figure_format = 'retina'\n",
    "sns.set(color_codes= True)"
   ]
  },
  {
   "cell_type": "code",
   "execution_count": null,
   "metadata": {},
   "outputs": [],
   "source": [
    "# Read file as is into pandas dataframe\n",
    "resort_df = pd.read_csv('Clean_CSV/oceanview_sunrise.csv',\n",
    "                        sep=',',\n",
    "                        engine='python',\n",
    "                        index_col= False,\n",
    "                        na_values = ['NA', 'N/A','NaN'],\n",
    "                        header=None,skiprows = [0],\n",
    "                        names = ['invoice_id','first_name','last_name','state','zip','check_in','bedrooms','weekly_rate',\n",
    "                        'rent_discount','total_sale','parking','mgmt_discount','pool_access','repeat_customer',\n",
    "                        'year','currency','address','city','county','customer_phone','personal_email','customer_id']) \n",
    "                           \n",
    "resort_df.head().append(resort_df.tail())"
   ]
  },
  {
   "cell_type": "code",
   "execution_count": null,
   "metadata": {},
   "outputs": [],
   "source": [
    "# Transforming a DataFrame with GroupBy   \n",
    "resort_df['rank_by_state'] = resort_df.groupby('state')['weekly_rate'].rank(ascending=False)\n",
    "resort_df.sort_values(by='state', ascending=False).head()"
   ]
  },
  {
   "cell_type": "code",
   "execution_count": null,
   "metadata": {},
   "outputs": [],
   "source": [
    "# New value sum (setup condition)\n",
    "sum_total = resort_df['weekly_rate'] + resort_df['weekly_rate'] * resort_df['rent_discount'] + resort_df['total_sale']\n",
    "resort_df.insert(loc=len(resort_df.columns), column='sum_total', value=sum_total)\n",
    "resort_df.head().append(resort_df.tail())"
   ]
  },
  {
   "cell_type": "code",
   "execution_count": null,
   "metadata": {},
   "outputs": [],
   "source": [
    "# Total_sale for 2021 and first 2 quarters of 2022\n",
    "sns.countplot(x='year', hue='total_sale', data=resort_df)"
   ]
  },
  {
   "cell_type": "code",
   "execution_count": null,
   "metadata": {},
   "outputs": [],
   "source": [
    "# Sort the rows of DataFrame by 'year' column\n",
    "resort_df.sort_values(by = 'year')\n",
    "\n",
    "# Creating groupBy object\n",
    "resort_df.groupby('state') \n",
    "\n",
    "# Counting the groups by 'state'\n",
    "resort_df.groupby('state').ngroups\n",
    "\n",
    "# Accessing only group names \n",
    "resort_df.groupby('state').groups.keys()\n",
    "\n",
    "# Selecting a Pandas GroupBy Group\n",
    "florida_df = resort_df.groupby('state').get_group(\"FL\")\n",
    "florida_df\n",
    "\n",
    "# Florida only customers in pivot table\n",
    "florida_pivot = pd.pivot_table(florida_df, index=['check_in']) \n",
    "\n",
    "florida_pivot.reset_index(inplace=True)\n",
    "florida_pivot"
   ]
  },
  {
   "cell_type": "code",
   "execution_count": null,
   "metadata": {},
   "outputs": [],
   "source": [
    "# Spliting date into three columns\n",
    "florida_pivot['year'] = pd.DatetimeIndex(florida_pivot['check_in']).year\n",
    "florida_pivot['month'] = pd.DatetimeIndex(florida_pivot['check_in']).month\n",
    "florida_pivot['day'] = pd.DatetimeIndex(florida_pivot['check_in']).day\n",
    "\n",
    "florida_pivot\n",
    "\n",
    "# Creating florida pivot table ordered by year, month, then day\n",
    "sorted_fldf = florida_pivot.sort_values(by=['year','month','day'] , ascending=[True, True, True])\n",
    "sorted_fldf"
   ]
  },
  {
   "cell_type": "code",
   "execution_count": null,
   "metadata": {},
   "outputs": [],
   "source": [
    "# Plot Florida totals sales by month\n",
    "ax = sns.lineplot(x='month', y='sum_total', data = sorted_fldf).set_title(\"Florida Sums by Month\")"
   ]
  },
  {
   "cell_type": "code",
   "execution_count": 35,
   "metadata": {},
   "outputs": [],
   "source": [
    "# Container dictionary 'averages'\n",
    "averages = {}\n",
    "\n",
    "# Split the data into different 'state'\n",
    "for date in resort_df['year'].unique():\n",
    "    temp_df = resort_df[resort_df['state'] == 'FL']\n",
    "\n",
    "\n",
    "# Apply an aggregation function\n",
    "average = temp_df['total_sale'].mean()\n",
    "\n",
    "\n",
    "# Combine the data into a DataFrame\n",
    "averages['FL'] = [average]"
   ]
  },
  {
   "cell_type": "code",
   "execution_count": null,
   "metadata": {},
   "outputs": [],
   "source": [
    "# DataFrame column 'total_sale_average' for the state of 'FL'\n",
    "aggregate_df = pd.DataFrame.from_dict(averages, orient='index', columns=['total_sale_average'])\n",
    "aggregate_df"
   ]
  },
  {
   "cell_type": "code",
   "execution_count": null,
   "metadata": {},
   "outputs": [],
   "source": [
    "# Aggregating .mean() .groupby() 'state' and 'total_sale'\n",
    "averages = resort_df.groupby('state')['total_sale'].mean()\n",
    "averages"
   ]
  },
  {
   "cell_type": "code",
   "execution_count": null,
   "metadata": {},
   "outputs": [],
   "source": [
    "# Calculating the Standard Deviation .groupby() 'state' and 'total_sale'\n",
    "standard_deviations = resort_df.groupby('state')['total_sale'].std()\n",
    "standard_deviations"
   ]
  },
  {
   "cell_type": "code",
   "execution_count": null,
   "metadata": {},
   "outputs": [],
   "source": [
    "# Applying multiple aggregations with .agg()\n",
    "import numpy as np\n",
    "aggs = resort_df.groupby('state')['total_sale'].agg([np.mean, np.std, np.var])\n",
    "aggs"
   ]
  },
  {
   "cell_type": "code",
   "execution_count": null,
   "metadata": {},
   "outputs": [],
   "source": [
    "# Filtering rows where the group's average' total_sale' price is less than 4500\n",
    "resort_df.groupby('state').filter(lambda x: x['total_sale'].mean() < 4500)"
   ]
  },
  {
   "cell_type": "code",
   "execution_count": null,
   "metadata": {},
   "outputs": [],
   "source": [
    "# Function defines .max() and .min() for the given groupby() columns\n",
    "def group_range(x):\n",
    "    return x.max() - x.min()\n",
    "\n",
    "\n",
    "\n",
    "ranges = resort_df.groupby(['state','weekly_rate'])['total_sale'].apply(group_range)\n",
    "ranges"
   ]
  },
  {
   "cell_type": "code",
   "execution_count": null,
   "metadata": {},
   "outputs": [],
   "source": [
    "# Return the first two records of each group\n",
    "resort_df.groupby(['state', 'total_sale']).head(2)"
   ]
  },
  {
   "cell_type": "code",
   "execution_count": null,
   "metadata": {},
   "outputs": [],
   "source": [
    "# First 10 rows for 'rank_by_state' column \n",
    "resort_df.loc[:10, 'rank_by_state']"
   ]
  },
  {
   "cell_type": "code",
   "execution_count": null,
   "metadata": {},
   "outputs": [],
   "source": [
    "# Descriptive statistics for all numeric columns  in DataFrame \n",
    "resort_df.describe()"
   ]
  },
  {
   "cell_type": "code",
   "execution_count": null,
   "metadata": {},
   "outputs": [],
   "source": [
    "# Crosstab() calculate true and false values\n",
    "pd.crosstab([resort_df.mgmt_discount,resort_df.pool_access], resort_df.repeat_customer, margins=True)"
   ]
  },
  {
   "cell_type": "code",
   "execution_count": null,
   "metadata": {},
   "outputs": [],
   "source": [
    "# Pivot_table for sum of states\n",
    "year_state_table = pd.pivot_table(resort_df, index=['state'], aggfunc='sum' ) \n",
    "year_state_table"
   ]
  },
  {
   "cell_type": "code",
   "execution_count": null,
   "metadata": {},
   "outputs": [],
   "source": [
    "# Prepare table for graph\n",
    "sorted_df = year_state_table.sort_values(by='repeat_customer', ascending=False)\n",
    "\n",
    "top_ten_repeat_states= sorted_df.iloc[:10]\n",
    "top_ten_repeat_states\n",
    "\n",
    "top_ten_repeat_states.reset_index(inplace=True)\n",
    "top_ten_repeat_states\n",
    "\n",
    "# Top 10 states for repeat_customers\n",
    "sns.barplot(y='state', x='repeat_customer', orient = 'h', data=top_ten_repeat_states)"
   ]
  },
  {
   "cell_type": "code",
   "execution_count": null,
   "metadata": {},
   "outputs": [],
   "source": [
    "# Check columns name before ordering\n",
    "my_list = resort_df.columns.values.tolist()\n",
    "my_list"
   ]
  },
  {
   "cell_type": "code",
   "execution_count": null,
   "metadata": {},
   "outputs": [],
   "source": [
    "# Format a new layout using 'iloc' \n",
    "resort_df = resort_df.iloc[:, [0,1,2,3,22,4,5,6,7,8,9,23,10,11,12,13,14,15,16,17,18,19,20,21]]\n",
    "resort_df\n",
    "\n",
    "# Finalized DataFrame\n",
    "resort_df"
   ]
  },
  {
   "cell_type": "code",
   "execution_count": null,
   "metadata": {},
   "outputs": [],
   "source": [
    "# Syntax to convert a dataframe to a csv\n",
    "resort_df.to_csv('oceanview_sunrise_complete.csv',\n",
    "                  index=False, # otherwise will add extra comma at start\n",
    "                  sep=',',\n",
    "                  encoding='utf-8')"
   ]
  },
  {
   "cell_type": "code",
   "execution_count": null,
   "metadata": {},
   "outputs": [],
   "source": [
    "my_list = resort_df.columns.values.tolist()\n",
    "my_list"
   ]
  }
 ],
 "metadata": {
  "kernelspec": {
   "display_name": "Python 3.9.7 ('base')",
   "language": "python",
   "name": "python3"
  },
  "language_info": {
   "codemirror_mode": {
    "name": "ipython",
    "version": 3
   },
   "file_extension": ".py",
   "mimetype": "text/x-python",
   "name": "python",
   "nbconvert_exporter": "python",
   "pygments_lexer": "ipython3",
   "version": "3.9.7"
  },
  "orig_nbformat": 4,
  "vscode": {
   "interpreter": {
    "hash": "ad2bdc8ecc057115af97d19610ffacc2b4e99fae6737bb82f5d7fb13d2f2c186"
   }
  }
 },
 "nbformat": 4,
 "nbformat_minor": 2
}
