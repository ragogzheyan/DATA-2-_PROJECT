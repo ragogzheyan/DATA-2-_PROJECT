{
 "cells": [
  {
   "cell_type": "code",
   "execution_count": 3,
   "metadata": {},
   "outputs": [],
   "source": [
    "import pandas as pd\n",
    "import sqlite3\n",
    "from sqlite3 import Error"
   ]
  },
  {
   "cell_type": "code",
   "execution_count": null,
   "metadata": {},
   "outputs": [],
   "source": [
    "# Read file as is into pandas dataframe\n",
    "resort = pd.read_csv('oceanview_sunrise_complete.csv',  \n",
    "                           sep=',',\n",
    "                           engine='python',\n",
    "                           index_col= False,\n",
    "                           na_values = ['NA', 'N/A'],\n",
    "                           header=None,\n",
    "                           skiprows = [0],\n",
    "                           names = ['invoice_id','first_name','last_name','state','rank_by_state','zip','check_in','bedrooms',\n",
    "                           'weekly_rate','rent_discount','total_sale','sum_total','parking','mgmt_discount','pool_access',\n",
    "                           'repeat_customer','year','currency','address','city','county','customer_phone','personal_email','customer_id']) \n",
    "                           \n",
    "                           \n",
    "resort.head().append(resort.tail())"
   ]
  },
  {
   "cell_type": "code",
   "execution_count": 5,
   "metadata": {},
   "outputs": [
    {
     "name": "stdout",
     "output_type": "stream",
     "text": [
      "Connection to SQLite DB successful\n"
     ]
    }
   ],
   "source": [
    "# Function creates connection for the given pass\n",
    "def create_connection(path):\n",
    "    connection = None\n",
    "    try:\n",
    "        connection = sqlite3.connect(path)\n",
    "        print(\"Connection to SQLite DB successful\")\n",
    "    except Error as e:\n",
    "        print(f\"The error '{e}' occurred\")\n",
    "\n",
    "    return connection\n",
    "\n",
    "# Where to connect to for future connections\n",
    "con = create_connection('SQL/sqldatabase.db')"
   ]
  },
  {
   "cell_type": "code",
   "execution_count": 6,
   "metadata": {},
   "outputs": [
    {
     "data": {
      "text/plain": [
       "<sqlite3.Cursor at 0x1fdd4f33420>"
      ]
     },
     "execution_count": 6,
     "metadata": {},
     "output_type": "execute_result"
    }
   ],
   "source": [
    "# Cursor setup\n",
    "cur = con.cursor()\n",
    "\n",
    "# Create table\n",
    "cur.execute('''CREATE TABLE IF NOT EXISTS oceanview_sunrise (invoice_id text,first_name text,last_name text,\\\n",
    "    state text,rank_by_state numbers,zip text,check_in text,bedrooms text,weekly_rate number, rent_discount number,\\\n",
    "        total_sale number,sum_total numbers, parking text, mgmt_discount text,pool_access text,\\\n",
    "            repeat_customer text,year text,currency number,address text, city text,county text,customer_phone text,\\\n",
    "                personal_email text,customer_id text)''')\n",
    "\n",
    "con.commit()\n",
    "\n",
    "resort.to_sql('oceanview_sunrise', con, if_exists='replace', index = False)\n",
    "\n",
    "cur.execute('''  \n",
    "SELECT * FROM oceanview_sunrise\n",
    "          ''')"
   ]
  },
  {
   "cell_type": "code",
   "execution_count": 7,
   "metadata": {},
   "outputs": [],
   "source": [
    "# Function to query database\n",
    "def execute_query(connection, query):\n",
    "    cursor = connection.cursor()\n",
    "    try:\n",
    "        cursor.execute(query)\n",
    "        connection.commit()\n",
    "        print(\"Query executed successfully\")\n",
    "    except Error as e:\n",
    "        print(f\"The error '{e}' occurred\")"
   ]
  },
  {
   "cell_type": "code",
   "execution_count": 27,
   "metadata": {},
   "outputs": [
    {
     "name": "stdout",
     "output_type": "stream",
     "text": [
      "Query executed successfully\n"
     ]
    }
   ],
   "source": [
    "# Add two entries \n",
    "user_added = \"\"\"\n",
    "INSERT INTO oceanview_sunrise (invoice_id,first_name,last_name,state,rank_by_state,zip,check_in,bedrooms,\\\n",
    "    weekly_rate,rent_discount,total_sale,sum_total,parking,mgmt_discount,pool_access,repeat_customer,\\\n",
    "    year,currency,address,city,county,customer_phone,personal_email,customer_id)\n",
    "VALUES\n",
    "  (\"564-586-5687\",\"Frank\",\"Smith\",\"KY\",0,56984,\"2022-05-05\",2,750,0.85,0,0,0,1,0,0,2022,\"USD\",\"35 South Hampton\",\"Lexington\",\"NaN\",\"985-654-2587\",\"f.smith@gmail.com\",\"A00452\"),\n",
    "  (\"564-586-5687\",\"Frank\",\"Smith\",\"KY\",0,56984,\"2022-05-05\",2,750,0.85,0,0,0,1,0,0,2022,\"USD\",\"35 South Hampton\",\"Lexington\",\"NaN\",\"985-654-2587\",\"f.smith@gmail.com\",\"A00453\")\n",
    "\"\"\"\n",
    "\n",
    "execute_query(con, user_added)  "
   ]
  },
  {
   "cell_type": "code",
   "execution_count": 28,
   "metadata": {},
   "outputs": [
    {
     "name": "stdout",
     "output_type": "stream",
     "text": [
      "Query executed successfully\n"
     ]
    }
   ],
   "source": [
    "# Deletes extra entry\n",
    "delete_entry = \"\"\"DELETE FROM oceanview_sunrise WHERE customer_id = 'A00453'\"\"\"\n",
    "execute_query(con, delete_entry)"
   ]
  },
  {
   "cell_type": "code",
   "execution_count": null,
   "metadata": {},
   "outputs": [],
   "source": [
    "# Closes database \n",
    "con.close()"
   ]
  }
 ],
 "metadata": {
  "kernelspec": {
   "display_name": "Python 3.9.7 ('base')",
   "language": "python",
   "name": "python3"
  },
  "language_info": {
   "codemirror_mode": {
    "name": "ipython",
    "version": 3
   },
   "file_extension": ".py",
   "mimetype": "text/x-python",
   "name": "python",
   "nbconvert_exporter": "python",
   "pygments_lexer": "ipython3",
   "version": "3.9.7"
  },
  "orig_nbformat": 4,
  "vscode": {
   "interpreter": {
    "hash": "ad2bdc8ecc057115af97d19610ffacc2b4e99fae6737bb82f5d7fb13d2f2c186"
   }
  }
 },
 "nbformat": 4,
 "nbformat_minor": 2
}
