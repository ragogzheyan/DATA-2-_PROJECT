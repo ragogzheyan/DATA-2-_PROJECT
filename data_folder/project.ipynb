{
 "cells": [
  {
   "cell_type": "markdown",
   "metadata": {},
   "source": []
  },
  {
   "cell_type": "markdown",
   "metadata": {},
   "source": []
  },
  {
   "cell_type": "code",
   "execution_count": 44,
   "metadata": {},
   "outputs": [],
   "source": [
    "# Load pandas library\n",
    "import pandas as pd\n",
    "import numpy as np\n",
    "import seaborn as sns\n",
    "import matplotlib.pyplot as plt"
   ]
  },
  {
   "cell_type": "code",
   "execution_count": 45,
   "metadata": {},
   "outputs": [],
   "source": [
    "%matplotlib inline\n"
   ]
  },
  {
   "cell_type": "code",
   "execution_count": null,
   "metadata": {},
   "outputs": [],
   "source": [
    "df1_import = pd.read_csv('atlantic_sunrise2021.csv',  \n",
    "                           sep=',',\n",
    "                           engine='python',\n",
    "                           na_values = ['NA', 'N/A','NaN'],\n",
    "                           header=None,\n",
    "                           skiprows = [0],\n",
    "                           names = ['customer_id', 'First_Name', 'last_name', 'address', 'City', 'county', 'state',\n",
    "                           'ZIP', 'customer_phone', 'Fax_Number', 'Customer_Email', 'Rental_ID', 'Weekly_Rate', 'Parking',\n",
    "                           'Pool_Access', 'Repeat_Customer', 'Bedrooms', 'MGMT_Discount', 'Date'])  # Read first CSV file)\n",
    "                           \n",
    "df1_import.head().append(df1_import.tail())"
   ]
  },
  {
   "cell_type": "code",
   "execution_count": null,
   "metadata": {},
   "outputs": [],
   "source": [
    "df1_import.duplicated()"
   ]
  },
  {
   "cell_type": "code",
   "execution_count": null,
   "metadata": {},
   "outputs": [],
   "source": [
    "df1_import.duplicated(keep=\"last\")"
   ]
  },
  {
   "cell_type": "code",
   "execution_count": null,
   "metadata": {},
   "outputs": [],
   "source": [
    "len(df1_import), len(df1_import.drop_duplicates())"
   ]
  },
  {
   "cell_type": "code",
   "execution_count": null,
   "metadata": {},
   "outputs": [],
   "source": [
    "df1_import = df1_import.drop_duplicates()\n",
    "df1_import"
   ]
  },
  {
   "cell_type": "code",
   "execution_count": null,
   "metadata": {},
   "outputs": [],
   "source": [
    "df1_import = pd.DataFrame(df1_import)\n",
    "df1_import.dtypes"
   ]
  },
  {
   "cell_type": "code",
   "execution_count": null,
   "metadata": {},
   "outputs": [],
   "source": [
    "df1_import.columns = map(str.lower,df1_import.columns)\n",
    "\n",
    "df1_import.columns = map(lambda x: x.replace(\"-\", \"_\").replace(\" \", \"_\"), df1_import.columns)\n",
    "\n",
    "df1_import.columns"
   ]
  },
  {
   "cell_type": "code",
   "execution_count": 53,
   "metadata": {},
   "outputs": [],
   "source": [
    "convert_data = pd.DataFrame(df1_import)\n",
    "cols = ['customer_id', 'first_name', 'last_name', 'address', 'city', 'county','state','zip',\n",
    "        'customer_phone', 'fax_number', 'customer_email', 'rental_id','bedrooms']\n",
    "convert_data[cols] = convert_data[cols].astype('str')"
   ]
  },
  {
   "cell_type": "code",
   "execution_count": 54,
   "metadata": {},
   "outputs": [],
   "source": [
    "for col in ['parking','pool_access','repeat_customer', 'mgmt_discount']:\n",
    "    df1_import[col] = df1_import[col].astype('bool_')"
   ]
  },
  {
   "cell_type": "code",
   "execution_count": null,
   "metadata": {},
   "outputs": [],
   "source": [
    "df1_import[['date']].apply(lambda x: x.astype('datetime64[ns]'))"
   ]
  },
  {
   "cell_type": "code",
   "execution_count": null,
   "metadata": {},
   "outputs": [],
   "source": [
    "df1_import[\"weekly_rate\"] = pd.to_numeric(df1_import.weekly_rate, errors = 'coerce', downcast ='integer' )\n",
    "df1_import.dtypes"
   ]
  },
  {
   "cell_type": "code",
   "execution_count": null,
   "metadata": {},
   "outputs": [],
   "source": [
    "df1_import.astype"
   ]
  },
  {
   "cell_type": "code",
   "execution_count": null,
   "metadata": {},
   "outputs": [],
   "source": [
    "df2_import = pd.read_csv('atlantic_sunrise2022.csv',\n",
    "                           sep=',',\n",
    "                           engine='python',\n",
    "                           na_values = ['NA', 'N/A', 'NaN'],\n",
    "                           header=None,\n",
    "                           skiprows = [0],\n",
    "                           names = ['customer_id', 'First_Name', 'last_name', 'address', 'City', 'county', 'state',\n",
    "                           'ZIP', 'customer_phone', 'Fax_Number', 'currency', 'Customer_Email', 'Rental_ID', 'Weekly_Rate', 'Parking',\n",
    "                           'Pool_Access', 'Repeat_Customer','Bedrooms', 'MGMT_Discount', 'Date'])    # Read second CSV file\n",
    "\n",
    "df2_import.head().append(df2_import.tail())"
   ]
  },
  {
   "cell_type": "code",
   "execution_count": null,
   "metadata": {},
   "outputs": [],
   "source": [
    "df2_import.duplicated()"
   ]
  },
  {
   "cell_type": "code",
   "execution_count": null,
   "metadata": {},
   "outputs": [],
   "source": [
    "df2_import.duplicated(keep=\"last\")"
   ]
  },
  {
   "cell_type": "code",
   "execution_count": null,
   "metadata": {},
   "outputs": [],
   "source": [
    "len(df2_import), len(df2_import.drop_duplicates())"
   ]
  },
  {
   "cell_type": "code",
   "execution_count": null,
   "metadata": {},
   "outputs": [],
   "source": [
    "df2_import = df2_import.drop_duplicates()\n",
    "df2_import"
   ]
  },
  {
   "cell_type": "code",
   "execution_count": null,
   "metadata": {},
   "outputs": [],
   "source": [
    "df2_import = pd.DataFrame(df2_import)\n",
    "df2_import.dtypes"
   ]
  },
  {
   "cell_type": "code",
   "execution_count": null,
   "metadata": {},
   "outputs": [],
   "source": [
    "df2_import.columns = map(str.lower,df2_import.columns)\n",
    "\n",
    "df2_import.columns = map(lambda x: x.replace(\"-\", \"_\").replace(\" \", \"_\"), df2_import.columns)\n",
    "\n",
    "df2_import.columns"
   ]
  },
  {
   "cell_type": "code",
   "execution_count": 65,
   "metadata": {},
   "outputs": [],
   "source": [
    "convert_data = pd.DataFrame(df2_import)\n",
    "cols = ['customer_id', 'first_name', 'last_name', 'address', 'city', 'county','state','zip',\n",
    "        'customer_phone', 'fax_number', 'currency', 'customer_email', 'rental_id','bedrooms']\n",
    "convert_data[cols] = convert_data[cols].astype('str')"
   ]
  },
  {
   "cell_type": "code",
   "execution_count": 66,
   "metadata": {},
   "outputs": [],
   "source": [
    "for col in ['parking','pool_access','repeat_customer', 'mgmt_discount']:\n",
    "    df2_import[col] = df2_import[col].astype('bool_')"
   ]
  },
  {
   "cell_type": "code",
   "execution_count": null,
   "metadata": {},
   "outputs": [],
   "source": [
    "df2_import[['date']].apply(lambda x: x.astype('datetime64[ns]'))"
   ]
  },
  {
   "cell_type": "code",
   "execution_count": 68,
   "metadata": {},
   "outputs": [],
   "source": [
    "df2_import= df2_import.astype({\"weekly_rate\": int},errors='ignore')"
   ]
  },
  {
   "cell_type": "code",
   "execution_count": null,
   "metadata": {},
   "outputs": [],
   "source": [
    "df2_import.astype"
   ]
  },
  {
   "cell_type": "code",
   "execution_count": null,
   "metadata": {},
   "outputs": [],
   "source": [
    "resort_df = df1_import.merge(df2_import,\n",
    "                              how='outer', \n",
    "                              right_index= False,\n",
    "                              left_index= False)\n",
    "\n",
    "resort_df"
   ]
  },
  {
   "cell_type": "code",
   "execution_count": 71,
   "metadata": {},
   "outputs": [],
   "source": [
    "resort_df.fillna('USD', inplace=True)"
   ]
  },
  {
   "cell_type": "code",
   "execution_count": null,
   "metadata": {},
   "outputs": [],
   "source": [
    "resort_df[\"currency\"] = resort_df['currency'].replace('None',  value='USD')\n",
    "resort_df\n"
   ]
  },
  {
   "cell_type": "code",
   "execution_count": null,
   "metadata": {},
   "outputs": [],
   "source": [
    "resort_df.rental_id.unique()"
   ]
  },
  {
   "cell_type": "code",
   "execution_count": null,
   "metadata": {},
   "outputs": [],
   "source": [
    "for col in resort_df.columns:\n",
    "    if 'rental_id' in col:\n",
    "        del resort_df[col]\n",
    "\n",
    "resort_df"
   ]
  },
  {
   "cell_type": "code",
   "execution_count": null,
   "metadata": {},
   "outputs": [],
   "source": [
    "resort_df.insert(loc=12, column='rent_discount', value='0.15', allow_duplicates=True)\n",
    "\n",
    "resort_df"
   ]
  },
  {
   "cell_type": "code",
   "execution_count": 76,
   "metadata": {},
   "outputs": [
    {
     "data": {
      "text/plain": [
       "bool"
      ]
     },
     "execution_count": 76,
     "metadata": {},
     "output_type": "execute_result"
    }
   ],
   "source": [
    "type(True)"
   ]
  },
  {
   "cell_type": "code",
   "execution_count": 77,
   "metadata": {},
   "outputs": [
    {
     "data": {
      "text/plain": [
       "bool"
      ]
     },
     "execution_count": 77,
     "metadata": {},
     "output_type": "execute_result"
    }
   ],
   "source": [
    "type(False)"
   ]
  },
  {
   "cell_type": "code",
   "execution_count": 78,
   "metadata": {},
   "outputs": [
    {
     "data": {
      "text/plain": [
       "True"
      ]
     },
     "execution_count": 78,
     "metadata": {},
     "output_type": "execute_result"
    }
   ],
   "source": [
    "issubclass(bool, int)"
   ]
  },
  {
   "cell_type": "code",
   "execution_count": 79,
   "metadata": {},
   "outputs": [
    {
     "data": {
      "text/plain": [
       "True"
      ]
     },
     "execution_count": 79,
     "metadata": {},
     "output_type": "execute_result"
    }
   ],
   "source": [
    "True == 1"
   ]
  },
  {
   "cell_type": "code",
   "execution_count": 80,
   "metadata": {},
   "outputs": [
    {
     "data": {
      "text/plain": [
       "True"
      ]
     },
     "execution_count": 80,
     "metadata": {},
     "output_type": "execute_result"
    }
   ],
   "source": [
    "False == 0"
   ]
  },
  {
   "cell_type": "code",
   "execution_count": null,
   "metadata": {},
   "outputs": [],
   "source": []
  }
 ],
 "metadata": {
  "kernelspec": {
   "display_name": "Python 3.9.7 ('base')",
   "language": "python",
   "name": "python3"
  },
  "language_info": {
   "codemirror_mode": {
    "name": "ipython",
    "version": 3
   },
   "file_extension": ".py",
   "mimetype": "text/x-python",
   "name": "python",
   "nbconvert_exporter": "python",
   "pygments_lexer": "ipython3",
   "version": "3.9.7"
  },
  "orig_nbformat": 4,
  "vscode": {
   "interpreter": {
    "hash": "ad2bdc8ecc057115af97d19610ffacc2b4e99fae6737bb82f5d7fb13d2f2c186"
   }
  }
 },
 "nbformat": 4,
 "nbformat_minor": 2
}
