{
 "cells": [
  {
   "cell_type": "markdown",
   "metadata": {},
   "source": []
  },
  {
   "cell_type": "markdown",
   "metadata": {},
   "source": []
  },
  {
   "cell_type": "code",
   "execution_count": null,
   "metadata": {},
   "outputs": [],
   "source": [
    "# Load pandas library\n",
    "import pandas as pd\n",
    "import numpy as np\n",
    "import seaborn as sns\n",
    "import matplotlib.pyplot as plt"
   ]
  },
  {
   "cell_type": "code",
   "execution_count": null,
   "metadata": {},
   "outputs": [],
   "source": [
    "%matplotlib inline\n"
   ]
  },
  {
   "cell_type": "code",
   "execution_count": null,
   "metadata": {},
   "outputs": [],
   "source": [
    "df1_import = pd.read_csv('atlantic_sunrise2021.csv',  \n",
    "                           sep=',',\n",
    "                           engine='python',\n",
    "                           index_col = [0],\n",
    "                           na_values = ['NA', 'N/A'],\n",
    "                           header=None,\n",
    "                           skiprows = [0],\n",
    "                           names = ['customer_id', 'First_Name', 'last_name', 'address', 'City', 'county', 'state',\n",
    "                           'ZIP', 'customer_phone', 'Fax_Number', 'Customer_Email', 'Rental_ID', 'Weekly_Rate', 'Parking',\n",
    "                           'Pool_Access', 'Repeat_Customer', 'Bedrooms', 'MGMT_Discount', 'Date'])  # Read first CSV file)\n",
    "                           \n",
    "df1_import.head().append(df1_import.tail())"
   ]
  },
  {
   "cell_type": "code",
   "execution_count": null,
   "metadata": {},
   "outputs": [],
   "source": [
    "df1_import.iloc[325:400, [11,12]]"
   ]
  },
  {
   "cell_type": "code",
   "execution_count": null,
   "metadata": {},
   "outputs": [],
   "source": []
  },
  {
   "cell_type": "code",
   "execution_count": null,
   "metadata": {},
   "outputs": [],
   "source": []
  }
 ],
 "metadata": {
  "kernelspec": {
   "display_name": "Python 3.9.7 ('base')",
   "language": "python",
   "name": "python3"
  },
  "language_info": {
   "name": "python",
   "version": "3.9.7"
  },
  "orig_nbformat": 4,
  "vscode": {
   "interpreter": {
    "hash": "ad2bdc8ecc057115af97d19610ffacc2b4e99fae6737bb82f5d7fb13d2f2c186"
   }
  }
 },
 "nbformat": 4,
 "nbformat_minor": 2
}
