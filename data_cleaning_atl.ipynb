{
 "cells": [
  {
   "cell_type": "markdown",
   "metadata": {},
   "source": [
    "### Data Cleaning"
   ]
  },
  {
   "cell_type": "code",
   "execution_count": 83,
   "metadata": {},
   "outputs": [],
   "source": [
    "import pandas as pd"
   ]
  },
  {
   "cell_type": "code",
   "execution_count": null,
   "metadata": {},
   "outputs": [],
   "source": [
    "# Import first csv: year 2021\n",
    "df1_import = pd.read_csv('initial_data_file/atlantic_sunrise2021.csv',  \n",
    "                           sep=',',\n",
    "                           engine='python',\n",
    "                           na_values = ['NA', 'N/A','NaN'],\n",
    "                           header=None,\n",
    "                           skiprows = [0],\n",
    "                           index_col= False,\n",
    "                           names = ['customer_id', 'First_Name', 'last_name', 'address', 'City', 'county', 'state',\n",
    "                           'ZIP', 'customer_phone', 'Fax_Number', 'Customer_Email', 'Rental_ID', 'Weekly_Rate', 'Parking',\n",
    "                           'Pool_Access', 'Repeat_Customer', 'Bedrooms', 'MGMT_Discount', 'Date','total_sale'])  # Read first CSV file)\n",
    "                           \n",
    "df1_import.head().append(df1_import.tail())"
   ]
  },
  {
   "cell_type": "code",
   "execution_count": null,
   "metadata": {},
   "outputs": [],
   "source": [
    "# Scan for duplicates\n",
    "df1_import.duplicated()"
   ]
  },
  {
   "cell_type": "code",
   "execution_count": null,
   "metadata": {},
   "outputs": [],
   "source": [
    "# Passing the \"last\" argument: mark the first occurrence of the value as non-duplicate\n",
    "df1_import.duplicated(keep=\"last\")"
   ]
  },
  {
   "cell_type": "code",
   "execution_count": null,
   "metadata": {},
   "outputs": [],
   "source": [
    "# Data len\n",
    "len(df1_import), len(df1_import.drop_duplicates())"
   ]
  },
  {
   "cell_type": "code",
   "execution_count": null,
   "metadata": {},
   "outputs": [],
   "source": [
    "# Remove duplicated data\n",
    "df1_import = df1_import.drop_duplicates()\n",
    "df1_import"
   ]
  },
  {
   "cell_type": "code",
   "execution_count": null,
   "metadata": {},
   "outputs": [],
   "source": [
    "# Import second csv: year 2022\n",
    "df2_import = pd.read_csv('initial_data_file/atlantic_sunrise2022.csv',\n",
    "                           sep=',',\n",
    "                           engine='python',\n",
    "                           na_values = ['NA', 'N/A', 'NaN'],\n",
    "                           header=None,\n",
    "                           skiprows = [0],\n",
    "                           index_col= False,\n",
    "                           names = ['customer_id', 'First_Name', 'last_name', 'address', 'City', 'county', 'state',\n",
    "                           'ZIP', 'customer_phone', 'Fax_Number', 'currency', 'Customer_Email', 'Rental_ID', 'Weekly_Rate', 'Parking',\n",
    "                           'Pool_Access', 'Repeat_Customer','Bedrooms', 'MGMT_Discount', 'Date', 'total_sale'])    # Read second CSV file\n",
    "\n",
    "df2_import.head().append(df2_import.tail())"
   ]
  },
  {
   "cell_type": "code",
   "execution_count": null,
   "metadata": {},
   "outputs": [],
   "source": [
    "# Skim through duplicates\n",
    "df2_import.duplicated() "
   ]
  },
  {
   "cell_type": "code",
   "execution_count": null,
   "metadata": {},
   "outputs": [],
   "source": [
    "# Passing the \"last\" argument: for second csv\n",
    "df2_import.duplicated(keep=\"last\")"
   ]
  },
  {
   "cell_type": "code",
   "execution_count": null,
   "metadata": {},
   "outputs": [],
   "source": [
    "# Data len\n",
    "len(df2_import), len(df2_import.drop_duplicates())"
   ]
  },
  {
   "cell_type": "code",
   "execution_count": null,
   "metadata": {},
   "outputs": [],
   "source": [
    "# Remove duplicated data\n",
    "df2_import = df2_import.drop_duplicates()\n",
    "df2_import"
   ]
  },
  {
   "cell_type": "code",
   "execution_count": null,
   "metadata": {},
   "outputs": [],
   "source": [
    "# Changing columns name to lowercase text (csv 1)\n",
    "df1_import.columns = map(str.lower,df1_import.columns)\n",
    "\n",
    "df1_import.columns = map(lambda x: x.replace(\"-\", \"_\").replace(\" \", \"_\"), df1_import.columns)\n",
    "\n",
    "df1_import.columns"
   ]
  },
  {
   "cell_type": "code",
   "execution_count": null,
   "metadata": {},
   "outputs": [],
   "source": [
    "# Changing columns name to lowercase text (csv 2)\n",
    "df2_import.columns = map(str.lower,df2_import.columns)\n",
    "\n",
    "df2_import.columns = map(lambda x: x.replace(\"-\", \"_\").replace(\" \", \"_\"), df2_import.columns)\n",
    "\n",
    "df2_import.columns"
   ]
  },
  {
   "cell_type": "code",
   "execution_count": null,
   "metadata": {},
   "outputs": [],
   "source": [
    "# Get dtype info for each column (csv 1)\n",
    "df1_import.info()"
   ]
  },
  {
   "cell_type": "code",
   "execution_count": 98,
   "metadata": {},
   "outputs": [],
   "source": [
    "# Convert data type for the selected columns in a list (str) (csv 1)\n",
    "convert_data = pd.DataFrame(df1_import)\n",
    "cols = ['customer_id', 'first_name', 'last_name', 'address', 'city', 'county','state','zip',\n",
    "        'customer_phone', 'fax_number', 'customer_email', 'rental_id','bedrooms']\n",
    "convert_data[cols] = convert_data[cols].astype('str')"
   ]
  },
  {
   "cell_type": "code",
   "execution_count": 99,
   "metadata": {},
   "outputs": [],
   "source": [
    "# Using a for loop to convert some columns (bool) (csv 1)\n",
    "for col in ['parking','pool_access','repeat_customer', 'mgmt_discount']:\n",
    "    df1_import[col] = df1_import[col].astype('bool_')"
   ]
  },
  {
   "cell_type": "code",
   "execution_count": 100,
   "metadata": {},
   "outputs": [],
   "source": [
    "# Convert weekly rate (int) (csv1)\n",
    "df1_import[\"weekly_rate\"] = pd.to_numeric(df1_import.weekly_rate, errors = 'coerce', downcast ='integer' )"
   ]
  },
  {
   "cell_type": "code",
   "execution_count": null,
   "metadata": {},
   "outputs": [],
   "source": [
    "# Using apply() & astype() together to convert date column (datetime64[ns]) (csv 1)\n",
    "df1_import[['date']].apply(lambda x: x.astype('datetime64[ns]'))"
   ]
  },
  {
   "cell_type": "code",
   "execution_count": null,
   "metadata": {},
   "outputs": [],
   "source": [
    "# Get dtype info for each column (csv 2)\n",
    "df2_import.info()"
   ]
  },
  {
   "cell_type": "code",
   "execution_count": 103,
   "metadata": {},
   "outputs": [],
   "source": [
    "# Convert data type for the selected columns in a list (str) (csv 2)\n",
    "convert_data = pd.DataFrame(df2_import)\n",
    "cols = ['customer_id', 'first_name', 'last_name', 'address', 'city', 'county','state','zip',\n",
    "        'customer_phone', 'fax_number', 'currency', 'customer_email', 'rental_id','bedrooms']\n",
    "convert_data[cols] = convert_data[cols].astype('str')"
   ]
  },
  {
   "cell_type": "code",
   "execution_count": 104,
   "metadata": {},
   "outputs": [],
   "source": [
    "# Using a for loop to convert some columns (bool) (csv 2)\n",
    "for col in ['parking','pool_access','repeat_customer', 'mgmt_discount']:\n",
    "    df2_import[col] = df2_import[col].astype('bool_')"
   ]
  },
  {
   "cell_type": "code",
   "execution_count": 105,
   "metadata": {},
   "outputs": [],
   "source": [
    "# Convert weekly rate (int) (csv 2) \n",
    "df2_import= df2_import.astype({\"weekly_rate\": int},errors='ignore')"
   ]
  },
  {
   "cell_type": "code",
   "execution_count": null,
   "metadata": {},
   "outputs": [],
   "source": [
    "# Using apply() & astype() together to convert date column (datetime64[ns]) (csv 2)\n",
    "df2_import[['date']].apply(lambda x: x.astype('datetime64[ns]'))"
   ]
  },
  {
   "cell_type": "code",
   "execution_count": null,
   "metadata": {},
   "outputs": [],
   "source": [
    "# Added new column to dataframe (csv 1)\n",
    "df1_import['year'] = '2021'\n",
    "df1_import"
   ]
  },
  {
   "cell_type": "code",
   "execution_count": null,
   "metadata": {},
   "outputs": [],
   "source": [
    "# Added new column to dataframe (csv 2)\n",
    "df2_import['year'] = '2022'\n",
    "df2_import"
   ]
  },
  {
   "cell_type": "code",
   "execution_count": null,
   "metadata": {},
   "outputs": [],
   "source": [
    "# Combined two datasets by .merge()\n",
    "resort_df = df1_import.merge(df2_import,\n",
    "                              how='outer', \n",
    "                              right_index= False,\n",
    "                              left_index= False)\n",
    "resort_df"
   ]
  },
  {
   "cell_type": "code",
   "execution_count": null,
   "metadata": {},
   "outputs": [],
   "source": [
    "# Count missing values by columns\n",
    "resort_df.isnull().sum()"
   ]
  },
  {
   "cell_type": "code",
   "execution_count": 111,
   "metadata": {},
   "outputs": [],
   "source": [
    "# Fill 'currency' column with 'USD'\n",
    "resort_df.fillna('USD', inplace=True)"
   ]
  },
  {
   "cell_type": "code",
   "execution_count": null,
   "metadata": {},
   "outputs": [],
   "source": [
    "# Replace 'None' with correct input\n",
    "resort_df[\"currency\"] = resort_df['currency'].replace('None',  value='USD')\n",
    "resort_df"
   ]
  },
  {
   "cell_type": "code",
   "execution_count": null,
   "metadata": {},
   "outputs": [],
   "source": [
    "# Identify unique value in 'rental_id' columns\n",
    "resort_df.rental_id.unique()"
   ]
  },
  {
   "cell_type": "code",
   "execution_count": null,
   "metadata": {},
   "outputs": [],
   "source": [
    "# Remove column from a list of columns (iteratively) by condition.\n",
    "for col in resort_df.columns:\n",
    "    if 'rental_id' in col:\n",
    "        del resort_df[col]\n",
    "\n",
    "resort_df"
   ]
  },
  {
   "cell_type": "code",
   "execution_count": null,
   "metadata": {},
   "outputs": [],
   "source": [
    "# Insert new column 'rent_discount' (15% off from 'weekly_rate' discount if renters rent for more than a week)\n",
    "rent_discount = []\n",
    "for value in resort_df['mgmt_discount']:\n",
    "    if value == True:\n",
    "        rent_discount.append(0.85)\n",
    "    elif value == False:\n",
    "        rent_discount.append(0)\n",
    "    else:\n",
    "        rent_discount.append('None')\n",
    "\n",
    "resort_df[\"rent_discount\"] = rent_discount\n",
    "resort_df"
   ]
  },
  {
   "cell_type": "code",
   "execution_count": null,
   "metadata": {},
   "outputs": [],
   "source": [
    "# Machine learning\n",
    "type(True)\n",
    "type(False)\n",
    "issubclass(bool, int)\n",
    "True == 1\n",
    "False == 0"
   ]
  },
  {
   "cell_type": "code",
   "execution_count": null,
   "metadata": {},
   "outputs": [],
   "source": [
    "# Rename multiple columns\n",
    "resort_df.rename(columns = {'fax_number':'invoice_id',\n",
    "                            'customer_email':'personal_email',\n",
    "                            'date': 'check_in'}, inplace= True)\n",
    "resort_df.columns"
   ]
  },
  {
   "cell_type": "code",
   "execution_count": null,
   "metadata": {},
   "outputs": [],
   "source": [
    "# Verify if any value is null\n",
    "resort_df.isnull().values.any() "
   ]
  },
  {
   "cell_type": "code",
   "execution_count": null,
   "metadata": {},
   "outputs": [],
   "source": [
    "# Using describe 'all' method to get statistical characteristics of each numerical/non-numericals columns \n",
    "resort_df.describe(include='all')"
   ]
  },
  {
   "cell_type": "code",
   "execution_count": null,
   "metadata": {},
   "outputs": [],
   "source": [
    "# Manual method for non-numeric columns \n",
    "resort_df.describe(include=['object', 'object'])"
   ]
  },
  {
   "cell_type": "code",
   "execution_count": null,
   "metadata": {},
   "outputs": [],
   "source": [
    "resort_df"
   ]
  },
  {
   "cell_type": "code",
   "execution_count": null,
   "metadata": {},
   "outputs": [],
   "source": [
    "# Rearrange initial data\n",
    "resort_df = resort_df.iloc[:, [9,1,2,6,7,17,15,11,21,18,12,16,13,14,19,20,3,4,5,8,10,0]]\n",
    "resort_df"
   ]
  },
  {
   "cell_type": "code",
   "execution_count": null,
   "metadata": {},
   "outputs": [],
   "source": [
    "# Syntax to convert a dataframe to a csv\n",
    "resort_df.to_csv('Clean_CSV/oceanview_sunrise.csv',\n",
    "                  index=False, # otherwise will add extra comma at start\n",
    "                  sep=',',\n",
    "                  encoding='utf-8')                               "
   ]
  },
  {
   "cell_type": "code",
   "execution_count": null,
   "metadata": {},
   "outputs": [],
   "source": [
    "# Copy to CSV to SQL\n",
    "my_list = resort_df.columns.values.tolist()\n",
    "my_list"
   ]
  }
 ],
 "metadata": {
  "kernelspec": {
   "display_name": "Python 3.9.7 ('base')",
   "language": "python",
   "name": "python3"
  },
  "language_info": {
   "codemirror_mode": {
    "name": "ipython",
    "version": 3
   },
   "file_extension": ".py",
   "mimetype": "text/x-python",
   "name": "python",
   "nbconvert_exporter": "python",
   "pygments_lexer": "ipython3",
   "version": "3.9.7"
  },
  "orig_nbformat": 4,
  "vscode": {
   "interpreter": {
    "hash": "ad2bdc8ecc057115af97d19610ffacc2b4e99fae6737bb82f5d7fb13d2f2c186"
   }
  }
 },
 "nbformat": 4,
 "nbformat_minor": 2
}
